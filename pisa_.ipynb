{
 "cells": [
  {
   "cell_type": "code",
   "execution_count": null,
   "metadata": {
    "_cell_guid": "b1076dfc-b9ad-4769-8c92-a6c4dae69d19",
    "_uuid": "8f2839f25d086af736a60e9eeb907d3b93b6e0e5",
    "execution": {
     "iopub.execute_input": "2024-02-01T15:49:36.791500Z",
     "iopub.status.busy": "2024-02-01T15:49:36.791023Z",
     "iopub.status.idle": "2024-02-01T15:49:36.803978Z",
     "shell.execute_reply": "2024-02-01T15:49:36.802255Z",
     "shell.execute_reply.started": "2024-02-01T15:49:36.791459Z"
    }
   },
   "outputs": [],
   "source": [
    "# This Python 3 environment comes with many helpful analytics libraries installed\n",
    "# It is defined by the kaggle/python Docker image: https://github.com/kaggle/docker-python\n",
    "# For example, here's several helpful packages to load\n",
    "\n",
    "import numpy as np # linear algebra\n",
    "import pandas as pd # data processing, CSV file I/O (e.g. pd.read_csv)\n",
    "\n",
    "# Input data files are available in the read-only \"../input/\" directory\n",
    "# For example, running this (by clicking run or pressing Shift+Enter) will list all files under the input directory\n",
    "\n",
    "import os\n",
    "for dirname, _, filenames in os.walk('/kaggle/input'):\n",
    "    for filename in filenames:\n",
    "        print(os.path.join(dirname, filename))\n",
    "\n",
    "# You can write up to 20GB to the current directory (/kaggle/working/) that gets preserved as output when you create a version using \"Save & Run All\" \n",
    "# You can also write temporary files to /kaggle/temp/, but they won't be saved outside of the current session"
   ]
  },
  {
   "cell_type": "code",
   "execution_count": null,
   "metadata": {},
   "outputs": [],
   "source": [
    "# Done together with @matrodriguez"
   ]
  },
  {
   "cell_type": "code",
   "execution_count": 1,
   "metadata": {},
   "outputs": [],
   "source": [
    "import numpy as np \n",
    "import pandas as pd \n",
    "import scipy.stats as stats\n",
    "import matplotlib.pyplot as plt\n",
    "import seaborn as sns\n",
    "import os\n",
    "import sklearn.preprocessing as skp\n",
    "import sklearn.decomposition as skd\n",
    "import sklearn.manifold as skm\n",
    "import sklearn.cluster as skc\n",
    "import scipy.cluster.hierarchy as scich \n",
    "from sklearn.model_selection import train_test_split\n",
    "from sklearn.metrics import confusion_matrix\n",
    "from sklearn.metrics import classification_report\n",
    "from sklearn.metrics import accuracy_score\n",
    "import sklearn.model_selection as skms \n",
    "import sklearn.preprocessing as skpp \n",
    "import sklearn.metrics as skm \n",
    "import sklearn.pipeline as skpl \n",
    "import sklearn.tree as skt \n",
    "import sklearn.neighbors as skn \n",
    "import sklearn.svm as skv \n",
    "import sklearn.ensemble as ske\n",
    "from sklearn.tree import DecisionTreeClassifier\n",
    "from sklearn.neighbors import KNeighborsClassifier\n",
    "from scipy.cluster.hierarchy import linkage, dendrogram\n",
    "from sklearn.neighbors import NearestNeighbors\n",
    "from random import sample\n",
    "from numpy.random import uniform\n",
    "from math import isnan\n",
    "from sklearn.cluster import KMeans\n",
    "import pyclustering\n",
    "from sklearn_extra.cluster import KMedoids\n",
    "from sklearn.datasets import make_blobs\n",
    "from mpl_toolkits import mplot3d\n",
    "import plotly.express as px\n",
    "import kmedoids\n",
    "import econml\n",
    "from sklearn.linear_model import TheilSenRegressor\n",
    "from sklearn.datasets import make_regression\n",
    "from sklearn.model_selection import cross_val_score\n",
    "from sklearn.model_selection import RepeatedKFold"
   ]
  },
  {
   "cell_type": "code",
   "execution_count": 2,
   "metadata": {},
   "outputs": [
    {
     "ename": "FileNotFoundError",
     "evalue": "[Errno 2] No such file or directory: '/kaggle/input/pisa-results-2000-2022-economics-and-education/economics_and_education_dataset_CSV.csv'",
     "output_type": "error",
     "traceback": [
      "\u001b[1;31m---------------------------------------------------------------------------\u001b[0m",
      "\u001b[1;31mFileNotFoundError\u001b[0m                         Traceback (most recent call last)",
      "Cell \u001b[1;32mIn[2], line 1\u001b[0m\n\u001b[1;32m----> 1\u001b[0m p \u001b[38;5;241m=\u001b[39m \u001b[43mpd\u001b[49m\u001b[38;5;241;43m.\u001b[39;49m\u001b[43mread_csv\u001b[49m\u001b[43m(\u001b[49m\u001b[38;5;124;43m\"\u001b[39;49m\u001b[38;5;124;43m/kaggle/input/pisa-results-2000-2022-economics-and-education/economics_and_education_dataset_CSV.csv\u001b[39;49m\u001b[38;5;124;43m\"\u001b[39;49m\u001b[43m)\u001b[49m\n\u001b[0;32m      2\u001b[0m pd\u001b[38;5;241m.\u001b[39mset_option(\u001b[38;5;124m'\u001b[39m\u001b[38;5;124mdisplay.max_rows\u001b[39m\u001b[38;5;124m'\u001b[39m,\u001b[38;5;28;01mNone\u001b[39;00m)\n\u001b[0;32m      3\u001b[0m pd\u001b[38;5;241m.\u001b[39mset_option(\u001b[38;5;124m'\u001b[39m\u001b[38;5;124mdisplay.max_columns\u001b[39m\u001b[38;5;124m'\u001b[39m,\u001b[38;5;28;01mNone\u001b[39;00m)\n",
      "File \u001b[1;32m~\\AppData\\Local\\Programs\\Python\\Python39\\lib\\site-packages\\pandas\\util\\_decorators.py:211\u001b[0m, in \u001b[0;36mdeprecate_kwarg.<locals>._deprecate_kwarg.<locals>.wrapper\u001b[1;34m(*args, **kwargs)\u001b[0m\n\u001b[0;32m    209\u001b[0m     \u001b[38;5;28;01melse\u001b[39;00m:\n\u001b[0;32m    210\u001b[0m         kwargs[new_arg_name] \u001b[38;5;241m=\u001b[39m new_arg_value\n\u001b[1;32m--> 211\u001b[0m \u001b[38;5;28;01mreturn\u001b[39;00m func(\u001b[38;5;241m*\u001b[39margs, \u001b[38;5;241m*\u001b[39m\u001b[38;5;241m*\u001b[39mkwargs)\n",
      "File \u001b[1;32m~\\AppData\\Local\\Programs\\Python\\Python39\\lib\\site-packages\\pandas\\util\\_decorators.py:331\u001b[0m, in \u001b[0;36mdeprecate_nonkeyword_arguments.<locals>.decorate.<locals>.wrapper\u001b[1;34m(*args, **kwargs)\u001b[0m\n\u001b[0;32m    325\u001b[0m \u001b[38;5;28;01mif\u001b[39;00m \u001b[38;5;28mlen\u001b[39m(args) \u001b[38;5;241m>\u001b[39m num_allow_args:\n\u001b[0;32m    326\u001b[0m     warnings\u001b[38;5;241m.\u001b[39mwarn(\n\u001b[0;32m    327\u001b[0m         msg\u001b[38;5;241m.\u001b[39mformat(arguments\u001b[38;5;241m=\u001b[39m_format_argument_list(allow_args)),\n\u001b[0;32m    328\u001b[0m         \u001b[38;5;167;01mFutureWarning\u001b[39;00m,\n\u001b[0;32m    329\u001b[0m         stacklevel\u001b[38;5;241m=\u001b[39mfind_stack_level(),\n\u001b[0;32m    330\u001b[0m     )\n\u001b[1;32m--> 331\u001b[0m \u001b[38;5;28;01mreturn\u001b[39;00m func(\u001b[38;5;241m*\u001b[39margs, \u001b[38;5;241m*\u001b[39m\u001b[38;5;241m*\u001b[39mkwargs)\n",
      "File \u001b[1;32m~\\AppData\\Local\\Programs\\Python\\Python39\\lib\\site-packages\\pandas\\io\\parsers\\readers.py:950\u001b[0m, in \u001b[0;36mread_csv\u001b[1;34m(filepath_or_buffer, sep, delimiter, header, names, index_col, usecols, squeeze, prefix, mangle_dupe_cols, dtype, engine, converters, true_values, false_values, skipinitialspace, skiprows, skipfooter, nrows, na_values, keep_default_na, na_filter, verbose, skip_blank_lines, parse_dates, infer_datetime_format, keep_date_col, date_parser, dayfirst, cache_dates, iterator, chunksize, compression, thousands, decimal, lineterminator, quotechar, quoting, doublequote, escapechar, comment, encoding, encoding_errors, dialect, error_bad_lines, warn_bad_lines, on_bad_lines, delim_whitespace, low_memory, memory_map, float_precision, storage_options)\u001b[0m\n\u001b[0;32m    935\u001b[0m kwds_defaults \u001b[38;5;241m=\u001b[39m _refine_defaults_read(\n\u001b[0;32m    936\u001b[0m     dialect,\n\u001b[0;32m    937\u001b[0m     delimiter,\n\u001b[1;32m   (...)\u001b[0m\n\u001b[0;32m    946\u001b[0m     defaults\u001b[38;5;241m=\u001b[39m{\u001b[38;5;124m\"\u001b[39m\u001b[38;5;124mdelimiter\u001b[39m\u001b[38;5;124m\"\u001b[39m: \u001b[38;5;124m\"\u001b[39m\u001b[38;5;124m,\u001b[39m\u001b[38;5;124m\"\u001b[39m},\n\u001b[0;32m    947\u001b[0m )\n\u001b[0;32m    948\u001b[0m kwds\u001b[38;5;241m.\u001b[39mupdate(kwds_defaults)\n\u001b[1;32m--> 950\u001b[0m \u001b[38;5;28;01mreturn\u001b[39;00m \u001b[43m_read\u001b[49m\u001b[43m(\u001b[49m\u001b[43mfilepath_or_buffer\u001b[49m\u001b[43m,\u001b[49m\u001b[43m \u001b[49m\u001b[43mkwds\u001b[49m\u001b[43m)\u001b[49m\n",
      "File \u001b[1;32m~\\AppData\\Local\\Programs\\Python\\Python39\\lib\\site-packages\\pandas\\io\\parsers\\readers.py:605\u001b[0m, in \u001b[0;36m_read\u001b[1;34m(filepath_or_buffer, kwds)\u001b[0m\n\u001b[0;32m    602\u001b[0m _validate_names(kwds\u001b[38;5;241m.\u001b[39mget(\u001b[38;5;124m\"\u001b[39m\u001b[38;5;124mnames\u001b[39m\u001b[38;5;124m\"\u001b[39m, \u001b[38;5;28;01mNone\u001b[39;00m))\n\u001b[0;32m    604\u001b[0m \u001b[38;5;66;03m# Create the parser.\u001b[39;00m\n\u001b[1;32m--> 605\u001b[0m parser \u001b[38;5;241m=\u001b[39m TextFileReader(filepath_or_buffer, \u001b[38;5;241m*\u001b[39m\u001b[38;5;241m*\u001b[39mkwds)\n\u001b[0;32m    607\u001b[0m \u001b[38;5;28;01mif\u001b[39;00m chunksize \u001b[38;5;129;01mor\u001b[39;00m iterator:\n\u001b[0;32m    608\u001b[0m     \u001b[38;5;28;01mreturn\u001b[39;00m parser\n",
      "File \u001b[1;32m~\\AppData\\Local\\Programs\\Python\\Python39\\lib\\site-packages\\pandas\\io\\parsers\\readers.py:1442\u001b[0m, in \u001b[0;36mTextFileReader.__init__\u001b[1;34m(self, f, engine, **kwds)\u001b[0m\n\u001b[0;32m   1439\u001b[0m     \u001b[38;5;28mself\u001b[39m\u001b[38;5;241m.\u001b[39moptions[\u001b[38;5;124m\"\u001b[39m\u001b[38;5;124mhas_index_names\u001b[39m\u001b[38;5;124m\"\u001b[39m] \u001b[38;5;241m=\u001b[39m kwds[\u001b[38;5;124m\"\u001b[39m\u001b[38;5;124mhas_index_names\u001b[39m\u001b[38;5;124m\"\u001b[39m]\n\u001b[0;32m   1441\u001b[0m \u001b[38;5;28mself\u001b[39m\u001b[38;5;241m.\u001b[39mhandles: IOHandles \u001b[38;5;241m|\u001b[39m \u001b[38;5;28;01mNone\u001b[39;00m \u001b[38;5;241m=\u001b[39m \u001b[38;5;28;01mNone\u001b[39;00m\n\u001b[1;32m-> 1442\u001b[0m \u001b[38;5;28mself\u001b[39m\u001b[38;5;241m.\u001b[39m_engine \u001b[38;5;241m=\u001b[39m \u001b[38;5;28;43mself\u001b[39;49m\u001b[38;5;241;43m.\u001b[39;49m\u001b[43m_make_engine\u001b[49m\u001b[43m(\u001b[49m\u001b[43mf\u001b[49m\u001b[43m,\u001b[49m\u001b[43m \u001b[49m\u001b[38;5;28;43mself\u001b[39;49m\u001b[38;5;241;43m.\u001b[39;49m\u001b[43mengine\u001b[49m\u001b[43m)\u001b[49m\n",
      "File \u001b[1;32m~\\AppData\\Local\\Programs\\Python\\Python39\\lib\\site-packages\\pandas\\io\\parsers\\readers.py:1735\u001b[0m, in \u001b[0;36mTextFileReader._make_engine\u001b[1;34m(self, f, engine)\u001b[0m\n\u001b[0;32m   1733\u001b[0m     \u001b[38;5;28;01mif\u001b[39;00m \u001b[38;5;124m\"\u001b[39m\u001b[38;5;124mb\u001b[39m\u001b[38;5;124m\"\u001b[39m \u001b[38;5;129;01mnot\u001b[39;00m \u001b[38;5;129;01min\u001b[39;00m mode:\n\u001b[0;32m   1734\u001b[0m         mode \u001b[38;5;241m+\u001b[39m\u001b[38;5;241m=\u001b[39m \u001b[38;5;124m\"\u001b[39m\u001b[38;5;124mb\u001b[39m\u001b[38;5;124m\"\u001b[39m\n\u001b[1;32m-> 1735\u001b[0m \u001b[38;5;28mself\u001b[39m\u001b[38;5;241m.\u001b[39mhandles \u001b[38;5;241m=\u001b[39m \u001b[43mget_handle\u001b[49m\u001b[43m(\u001b[49m\n\u001b[0;32m   1736\u001b[0m \u001b[43m    \u001b[49m\u001b[43mf\u001b[49m\u001b[43m,\u001b[49m\n\u001b[0;32m   1737\u001b[0m \u001b[43m    \u001b[49m\u001b[43mmode\u001b[49m\u001b[43m,\u001b[49m\n\u001b[0;32m   1738\u001b[0m \u001b[43m    \u001b[49m\u001b[43mencoding\u001b[49m\u001b[38;5;241;43m=\u001b[39;49m\u001b[38;5;28;43mself\u001b[39;49m\u001b[38;5;241;43m.\u001b[39;49m\u001b[43moptions\u001b[49m\u001b[38;5;241;43m.\u001b[39;49m\u001b[43mget\u001b[49m\u001b[43m(\u001b[49m\u001b[38;5;124;43m\"\u001b[39;49m\u001b[38;5;124;43mencoding\u001b[39;49m\u001b[38;5;124;43m\"\u001b[39;49m\u001b[43m,\u001b[49m\u001b[43m \u001b[49m\u001b[38;5;28;43;01mNone\u001b[39;49;00m\u001b[43m)\u001b[49m\u001b[43m,\u001b[49m\n\u001b[0;32m   1739\u001b[0m \u001b[43m    \u001b[49m\u001b[43mcompression\u001b[49m\u001b[38;5;241;43m=\u001b[39;49m\u001b[38;5;28;43mself\u001b[39;49m\u001b[38;5;241;43m.\u001b[39;49m\u001b[43moptions\u001b[49m\u001b[38;5;241;43m.\u001b[39;49m\u001b[43mget\u001b[49m\u001b[43m(\u001b[49m\u001b[38;5;124;43m\"\u001b[39;49m\u001b[38;5;124;43mcompression\u001b[39;49m\u001b[38;5;124;43m\"\u001b[39;49m\u001b[43m,\u001b[49m\u001b[43m \u001b[49m\u001b[38;5;28;43;01mNone\u001b[39;49;00m\u001b[43m)\u001b[49m\u001b[43m,\u001b[49m\n\u001b[0;32m   1740\u001b[0m \u001b[43m    \u001b[49m\u001b[43mmemory_map\u001b[49m\u001b[38;5;241;43m=\u001b[39;49m\u001b[38;5;28;43mself\u001b[39;49m\u001b[38;5;241;43m.\u001b[39;49m\u001b[43moptions\u001b[49m\u001b[38;5;241;43m.\u001b[39;49m\u001b[43mget\u001b[49m\u001b[43m(\u001b[49m\u001b[38;5;124;43m\"\u001b[39;49m\u001b[38;5;124;43mmemory_map\u001b[39;49m\u001b[38;5;124;43m\"\u001b[39;49m\u001b[43m,\u001b[49m\u001b[43m \u001b[49m\u001b[38;5;28;43;01mFalse\u001b[39;49;00m\u001b[43m)\u001b[49m\u001b[43m,\u001b[49m\n\u001b[0;32m   1741\u001b[0m \u001b[43m    \u001b[49m\u001b[43mis_text\u001b[49m\u001b[38;5;241;43m=\u001b[39;49m\u001b[43mis_text\u001b[49m\u001b[43m,\u001b[49m\n\u001b[0;32m   1742\u001b[0m \u001b[43m    \u001b[49m\u001b[43merrors\u001b[49m\u001b[38;5;241;43m=\u001b[39;49m\u001b[38;5;28;43mself\u001b[39;49m\u001b[38;5;241;43m.\u001b[39;49m\u001b[43moptions\u001b[49m\u001b[38;5;241;43m.\u001b[39;49m\u001b[43mget\u001b[49m\u001b[43m(\u001b[49m\u001b[38;5;124;43m\"\u001b[39;49m\u001b[38;5;124;43mencoding_errors\u001b[39;49m\u001b[38;5;124;43m\"\u001b[39;49m\u001b[43m,\u001b[49m\u001b[43m \u001b[49m\u001b[38;5;124;43m\"\u001b[39;49m\u001b[38;5;124;43mstrict\u001b[39;49m\u001b[38;5;124;43m\"\u001b[39;49m\u001b[43m)\u001b[49m\u001b[43m,\u001b[49m\n\u001b[0;32m   1743\u001b[0m \u001b[43m    \u001b[49m\u001b[43mstorage_options\u001b[49m\u001b[38;5;241;43m=\u001b[39;49m\u001b[38;5;28;43mself\u001b[39;49m\u001b[38;5;241;43m.\u001b[39;49m\u001b[43moptions\u001b[49m\u001b[38;5;241;43m.\u001b[39;49m\u001b[43mget\u001b[49m\u001b[43m(\u001b[49m\u001b[38;5;124;43m\"\u001b[39;49m\u001b[38;5;124;43mstorage_options\u001b[39;49m\u001b[38;5;124;43m\"\u001b[39;49m\u001b[43m,\u001b[49m\u001b[43m \u001b[49m\u001b[38;5;28;43;01mNone\u001b[39;49;00m\u001b[43m)\u001b[49m\u001b[43m,\u001b[49m\n\u001b[0;32m   1744\u001b[0m \u001b[43m\u001b[49m\u001b[43m)\u001b[49m\n\u001b[0;32m   1745\u001b[0m \u001b[38;5;28;01massert\u001b[39;00m \u001b[38;5;28mself\u001b[39m\u001b[38;5;241m.\u001b[39mhandles \u001b[38;5;129;01mis\u001b[39;00m \u001b[38;5;129;01mnot\u001b[39;00m \u001b[38;5;28;01mNone\u001b[39;00m\n\u001b[0;32m   1746\u001b[0m f \u001b[38;5;241m=\u001b[39m \u001b[38;5;28mself\u001b[39m\u001b[38;5;241m.\u001b[39mhandles\u001b[38;5;241m.\u001b[39mhandle\n",
      "File \u001b[1;32m~\\AppData\\Local\\Programs\\Python\\Python39\\lib\\site-packages\\pandas\\io\\common.py:856\u001b[0m, in \u001b[0;36mget_handle\u001b[1;34m(path_or_buf, mode, encoding, compression, memory_map, is_text, errors, storage_options)\u001b[0m\n\u001b[0;32m    851\u001b[0m \u001b[38;5;28;01melif\u001b[39;00m \u001b[38;5;28misinstance\u001b[39m(handle, \u001b[38;5;28mstr\u001b[39m):\n\u001b[0;32m    852\u001b[0m     \u001b[38;5;66;03m# Check whether the filename is to be opened in binary mode.\u001b[39;00m\n\u001b[0;32m    853\u001b[0m     \u001b[38;5;66;03m# Binary mode does not support 'encoding' and 'newline'.\u001b[39;00m\n\u001b[0;32m    854\u001b[0m     \u001b[38;5;28;01mif\u001b[39;00m ioargs\u001b[38;5;241m.\u001b[39mencoding \u001b[38;5;129;01mand\u001b[39;00m \u001b[38;5;124m\"\u001b[39m\u001b[38;5;124mb\u001b[39m\u001b[38;5;124m\"\u001b[39m \u001b[38;5;129;01mnot\u001b[39;00m \u001b[38;5;129;01min\u001b[39;00m ioargs\u001b[38;5;241m.\u001b[39mmode:\n\u001b[0;32m    855\u001b[0m         \u001b[38;5;66;03m# Encoding\u001b[39;00m\n\u001b[1;32m--> 856\u001b[0m         handle \u001b[38;5;241m=\u001b[39m \u001b[38;5;28;43mopen\u001b[39;49m\u001b[43m(\u001b[49m\n\u001b[0;32m    857\u001b[0m \u001b[43m            \u001b[49m\u001b[43mhandle\u001b[49m\u001b[43m,\u001b[49m\n\u001b[0;32m    858\u001b[0m \u001b[43m            \u001b[49m\u001b[43mioargs\u001b[49m\u001b[38;5;241;43m.\u001b[39;49m\u001b[43mmode\u001b[49m\u001b[43m,\u001b[49m\n\u001b[0;32m    859\u001b[0m \u001b[43m            \u001b[49m\u001b[43mencoding\u001b[49m\u001b[38;5;241;43m=\u001b[39;49m\u001b[43mioargs\u001b[49m\u001b[38;5;241;43m.\u001b[39;49m\u001b[43mencoding\u001b[49m\u001b[43m,\u001b[49m\n\u001b[0;32m    860\u001b[0m \u001b[43m            \u001b[49m\u001b[43merrors\u001b[49m\u001b[38;5;241;43m=\u001b[39;49m\u001b[43merrors\u001b[49m\u001b[43m,\u001b[49m\n\u001b[0;32m    861\u001b[0m \u001b[43m            \u001b[49m\u001b[43mnewline\u001b[49m\u001b[38;5;241;43m=\u001b[39;49m\u001b[38;5;124;43m\"\u001b[39;49m\u001b[38;5;124;43m\"\u001b[39;49m\u001b[43m,\u001b[49m\n\u001b[0;32m    862\u001b[0m \u001b[43m        \u001b[49m\u001b[43m)\u001b[49m\n\u001b[0;32m    863\u001b[0m     \u001b[38;5;28;01melse\u001b[39;00m:\n\u001b[0;32m    864\u001b[0m         \u001b[38;5;66;03m# Binary mode\u001b[39;00m\n\u001b[0;32m    865\u001b[0m         handle \u001b[38;5;241m=\u001b[39m \u001b[38;5;28mopen\u001b[39m(handle, ioargs\u001b[38;5;241m.\u001b[39mmode)\n",
      "\u001b[1;31mFileNotFoundError\u001b[0m: [Errno 2] No such file or directory: '/kaggle/input/pisa-results-2000-2022-economics-and-education/economics_and_education_dataset_CSV.csv'"
     ]
    }
   ],
   "source": [
    "p = pd.read_csv(\"/kaggle/input/pisa-results-2000-2022-economics-and-education/economics_and_education_dataset_CSV.csv\")\n",
    "pd.set_option('display.max_rows',None)\n",
    "pd.set_option('display.max_columns',None)\n",
    "#p.columns.to_numpy()\n",
    "p = p.drop('index_code', axis = 1)\n",
    "p = p.drop('time', axis = 1)\n",
    "p = p.drop('sex', axis = 1)\n",
    "p"
   ]
  },
  {
   "cell_type": "code",
   "execution_count": null,
   "metadata": {
    "execution": {
     "iopub.execute_input": "2024-02-01T15:49:37.531582Z",
     "iopub.status.busy": "2024-02-01T15:49:37.530644Z",
     "iopub.status.idle": "2024-02-01T15:49:37.539505Z",
     "shell.execute_reply": "2024-02-01T15:49:37.538365Z",
     "shell.execute_reply.started": "2024-02-01T15:49:37.531539Z"
    }
   },
   "outputs": [],
   "source": [
    "p.columns.to_numpy()"
   ]
  },
  {
   "cell_type": "code",
   "execution_count": null,
   "metadata": {
    "execution": {
     "iopub.execute_input": "2024-02-01T15:49:37.541584Z",
     "iopub.status.busy": "2024-02-01T15:49:37.541195Z",
     "iopub.status.idle": "2024-02-01T15:49:37.859622Z",
     "shell.execute_reply": "2024-02-01T15:49:37.858543Z",
     "shell.execute_reply.started": "2024-02-01T15:49:37.541552Z"
    }
   },
   "outputs": [],
   "source": [
    "#dictionary:\n",
    "country_prefix = p.country.unique()\n",
    "countries_dict = {elem : pd.DataFrame() for elem in country_prefix}\n",
    "for key in countries_dict.keys():\n",
    "    countries_dict[key] = p[:][p.country == key]\n",
    "    \n",
    "for country in country_prefix:\n",
    "    for column in countries_dict[country].select_dtypes(include='number'):\n",
    "        median_country = countries_dict[country][column].median()\n",
    "        countries_dict[country][column] = countries_dict[country][column].fillna(median_country)\n"
   ]
  },
  {
   "cell_type": "code",
   "execution_count": null,
   "metadata": {
    "execution": {
     "iopub.execute_input": "2024-02-01T15:49:37.861645Z",
     "iopub.status.busy": "2024-02-01T15:49:37.861147Z",
     "iopub.status.idle": "2024-02-01T15:49:38.477418Z",
     "shell.execute_reply": "2024-02-01T15:49:38.475924Z",
     "shell.execute_reply.started": "2024-02-01T15:49:37.861584Z"
    }
   },
   "outputs": [],
   "source": [
    "df_joineds = pd.concat(countries_dict.values())\n",
    "df_joineds.dropna(how = 'any', inplace = True)\n",
    "df_joineds.drop('country',axis = 1, inplace = True)\n",
    "df_joineds"
   ]
  },
  {
   "cell_type": "code",
   "execution_count": null,
   "metadata": {
    "execution": {
     "iopub.execute_input": "2024-02-01T15:49:38.479587Z",
     "iopub.status.busy": "2024-02-01T15:49:38.479184Z",
     "iopub.status.idle": "2024-02-01T15:49:38.490100Z",
     "shell.execute_reply": "2024-02-01T15:49:38.488471Z",
     "shell.execute_reply.started": "2024-02-01T15:49:38.479555Z"
    }
   },
   "outputs": [],
   "source": [
    "y = df_joineds[['rating']]\n",
    "x = df_joineds[['expenditure_on _education_pct_gdp', 'mortality_rate_infant',\n",
    "       'gini_index', 'inflation_consumer_prices',\n",
    "       'intentional_homicides', 'unemployment',\n",
    "       'gross_fixed_capital_formation', 'population_density',\n",
    "       'suicide_mortality_rate', 'tax_revenue',\n",
    "       'taxes_on_income_profits_capital',\n",
    "       'alcohol_consumption_per_capita',\n",
    "       'government_health_expenditure_pct_gdp',\n",
    "       'urban_population_pct_total']]\n"
   ]
  },
  {
   "cell_type": "code",
   "execution_count": null,
   "metadata": {
    "execution": {
     "iopub.execute_input": "2024-02-01T15:49:38.492735Z",
     "iopub.status.busy": "2024-02-01T15:49:38.492283Z",
     "iopub.status.idle": "2024-02-01T15:49:38.552900Z",
     "shell.execute_reply": "2024-02-01T15:49:38.551366Z",
     "shell.execute_reply.started": "2024-02-01T15:49:38.492703Z"
    }
   },
   "outputs": [],
   "source": [
    "corr = df_joineds.corr()\n",
    "corr.style.background_gradient(cmap='coolwarm')"
   ]
  },
  {
   "cell_type": "code",
   "execution_count": null,
   "metadata": {
    "execution": {
     "iopub.execute_input": "2024-02-01T15:49:38.555304Z",
     "iopub.status.busy": "2024-02-01T15:49:38.554881Z",
     "iopub.status.idle": "2024-02-01T15:49:38.570631Z",
     "shell.execute_reply": "2024-02-01T15:49:38.569095Z",
     "shell.execute_reply.started": "2024-02-01T15:49:38.555264Z"
    }
   },
   "outputs": [],
   "source": [
    "Q1 = df_joineds['rating'].quantile(0.25)\n",
    "Q3 = df_joineds['rating'].quantile(0.75)\n",
    "IQR = Q3 - Q1\n",
    "((df_joineds['rating'] < (Q1 - 1.5 * IQR)) | (df_joineds['rating'] > (Q3 + 1.5 * IQR))).sum()"
   ]
  },
  {
   "cell_type": "code",
   "execution_count": null,
   "metadata": {
    "execution": {
     "iopub.execute_input": "2024-02-01T15:49:38.577528Z",
     "iopub.status.busy": "2024-02-01T15:49:38.577055Z",
     "iopub.status.idle": "2024-02-01T15:49:38.587270Z",
     "shell.execute_reply": "2024-02-01T15:49:38.585826Z",
     "shell.execute_reply.started": "2024-02-01T15:49:38.577497Z"
    }
   },
   "outputs": [],
   "source": [
    "x.columns.to_numpy()"
   ]
  },
  {
   "cell_type": "code",
   "execution_count": null,
   "metadata": {
    "execution": {
     "iopub.execute_input": "2024-02-01T15:49:38.589512Z",
     "iopub.status.busy": "2024-02-01T15:49:38.589102Z",
     "iopub.status.idle": "2024-02-01T15:49:38.596007Z",
     "shell.execute_reply": "2024-02-01T15:49:38.594357Z",
     "shell.execute_reply.started": "2024-02-01T15:49:38.589481Z"
    }
   },
   "outputs": [],
   "source": [
    "# huber reg\n",
    "import statsmodels.api as sm\n",
    "import statsmodels as smd\n",
    "import statsmodels.formula.api as smf"
   ]
  },
  {
   "cell_type": "code",
   "execution_count": null,
   "metadata": {
    "execution": {
     "iopub.execute_input": "2024-02-01T15:49:38.598260Z",
     "iopub.status.busy": "2024-02-01T15:49:38.597828Z",
     "iopub.status.idle": "2024-02-01T15:49:38.641058Z",
     "shell.execute_reply": "2024-02-01T15:49:38.640077Z",
     "shell.execute_reply.started": "2024-02-01T15:49:38.598228Z"
    }
   },
   "outputs": [],
   "source": [
    "huber_t = sm.RLM(endog = y, \n",
    "                   exog= x, M=sm.robust.norms.HuberT())\n",
    "hub_results = huber_t.fit()\n",
    "print(hub_results.params)\n",
    "print(\n",
    "    hub_results.summary(\n",
    "        yname=\"y\", xname=[\"var_%d\" % i for i in range(len(hub_results.params))]\n",
    "    )\n",
    ")"
   ]
  },
  {
   "cell_type": "code",
   "execution_count": null,
   "metadata": {
    "execution": {
     "iopub.execute_input": "2024-02-01T15:49:38.642870Z",
     "iopub.status.busy": "2024-02-01T15:49:38.642471Z",
     "iopub.status.idle": "2024-02-01T15:49:38.670556Z",
     "shell.execute_reply": "2024-02-01T15:49:38.669370Z",
     "shell.execute_reply.started": "2024-02-01T15:49:38.642837Z"
    }
   },
   "outputs": [],
   "source": [
    "#r2:\n",
    "r2_wls = sm.WLS(huber_t.endog, huber_t.exog, weights=huber_t.fit().weights).fit().rsquared\n",
    "r2_wls"
   ]
  },
  {
   "cell_type": "code",
   "execution_count": null,
   "metadata": {
    "execution": {
     "iopub.execute_input": "2024-02-01T15:49:38.673281Z",
     "iopub.status.busy": "2024-02-01T15:49:38.672373Z",
     "iopub.status.idle": "2024-02-01T15:49:38.977931Z",
     "shell.execute_reply": "2024-02-01T15:49:38.976502Z",
     "shell.execute_reply.started": "2024-02-01T15:49:38.673248Z"
    }
   },
   "outputs": [],
   "source": [
    "#Quantile Regression\n",
    "quanti = smf.quantreg('y ~ x' ,df_joineds).fit(q=0.7)\n",
    " \n",
    "# view model summary\n",
    "print(quanti.summary())"
   ]
  },
  {
   "cell_type": "code",
   "execution_count": null,
   "metadata": {
    "execution": {
     "iopub.execute_input": "2024-02-01T15:49:38.979702Z",
     "iopub.status.busy": "2024-02-01T15:49:38.979337Z",
     "iopub.status.idle": "2024-02-01T15:49:39.441239Z",
     "shell.execute_reply": "2024-02-01T15:49:39.440056Z",
     "shell.execute_reply.started": "2024-02-01T15:49:38.979673Z"
    }
   },
   "outputs": [],
   "source": [
    "# quasi-experiment:\n",
    "scaler = skp.StandardScaler( )\n",
    "p_norm = pd.DataFrame( scaler.fit_transform( df_joineds.values ), index = df_joineds.index, columns = df_joineds.columns)\n",
    "p_norm = p_norm.dropna(how='any')\n",
    "p_norm"
   ]
  },
  {
   "cell_type": "code",
   "execution_count": null,
   "metadata": {
    "execution": {
     "iopub.execute_input": "2024-02-01T15:49:39.443763Z",
     "iopub.status.busy": "2024-02-01T15:49:39.443287Z",
     "iopub.status.idle": "2024-02-01T15:49:39.486059Z",
     "shell.execute_reply": "2024-02-01T15:49:39.484111Z",
     "shell.execute_reply.started": "2024-02-01T15:49:39.443724Z"
    }
   },
   "outputs": [],
   "source": [
    "pca = skd.PCA(svd_solver='randomized', random_state=42)\n",
    "# fiting PCA on the dataset\n",
    "pca.fit(p_norm)"
   ]
  },
  {
   "cell_type": "code",
   "execution_count": null,
   "metadata": {
    "execution": {
     "iopub.execute_input": "2024-02-01T15:49:39.491244Z",
     "iopub.status.busy": "2024-02-01T15:49:39.488599Z",
     "iopub.status.idle": "2024-02-01T15:49:39.507219Z",
     "shell.execute_reply": "2024-02-01T15:49:39.505412Z",
     "shell.execute_reply.started": "2024-02-01T15:49:39.491184Z"
    }
   },
   "outputs": [],
   "source": [
    "pca.explained_variance_ratio_"
   ]
  },
  {
   "cell_type": "code",
   "execution_count": null,
   "metadata": {
    "execution": {
     "iopub.execute_input": "2024-02-01T15:49:39.511277Z",
     "iopub.status.busy": "2024-02-01T15:49:39.509382Z",
     "iopub.status.idle": "2024-02-01T15:49:39.826832Z",
     "shell.execute_reply": "2024-02-01T15:49:39.825657Z",
     "shell.execute_reply.started": "2024-02-01T15:49:39.511219Z"
    }
   },
   "outputs": [],
   "source": [
    "fig = plt.figure(figsize = (12,8))\n",
    "plt.plot(np.cumsum(pca.explained_variance_ratio_))\n",
    "plt.xlabel('number of components')\n",
    "plt.ylabel('cumulative explained variance')\n",
    "plt.show()"
   ]
  },
  {
   "cell_type": "code",
   "execution_count": null,
   "metadata": {
    "execution": {
     "iopub.execute_input": "2024-02-01T15:49:39.829443Z",
     "iopub.status.busy": "2024-02-01T15:49:39.828325Z",
     "iopub.status.idle": "2024-02-01T15:49:39.852124Z",
     "shell.execute_reply": "2024-02-01T15:49:39.850406Z",
     "shell.execute_reply.started": "2024-02-01T15:49:39.829404Z"
    }
   },
   "outputs": [],
   "source": [
    "pca_5c_obj = skd.PCA( n_components = 6) \n",
    "pca_d = pca_5c_obj.fit_transform( p_norm.values ) \n",
    "\n",
    "pca_5c_obj.explained_variance_ratio_\n",
    "sum( pca_5c_obj.explained_variance_ratio_ )"
   ]
  },
  {
   "cell_type": "code",
   "execution_count": null,
   "metadata": {
    "execution": {
     "iopub.execute_input": "2024-02-01T15:49:39.855733Z",
     "iopub.status.busy": "2024-02-01T15:49:39.854657Z",
     "iopub.status.idle": "2024-02-01T15:49:39.880046Z",
     "shell.execute_reply": "2024-02-01T15:49:39.878443Z",
     "shell.execute_reply.started": "2024-02-01T15:49:39.855672Z"
    }
   },
   "outputs": [],
   "source": [
    "from sklearn.decomposition import IncrementalPCA\n",
    "pca_f_d = IncrementalPCA(n_components=6)\n",
    "df_pca_ = pca_f_d.fit_transform(p_norm)\n",
    "df_pca_.shape\n",
    "pc_d = np.transpose(df_pca_)"
   ]
  },
  {
   "cell_type": "code",
   "execution_count": null,
   "metadata": {
    "execution": {
     "iopub.execute_input": "2024-02-01T15:49:39.883259Z",
     "iopub.status.busy": "2024-02-01T15:49:39.882312Z",
     "iopub.status.idle": "2024-02-01T15:49:40.367743Z",
     "shell.execute_reply": "2024-02-01T15:49:40.366498Z",
     "shell.execute_reply.started": "2024-02-01T15:49:39.883197Z"
    }
   },
   "outputs": [],
   "source": [
    "corrmat = np.corrcoef(pc_d)\n",
    "plt.figure(figsize = (20,10))\n",
    "sns.heatmap(corrmat,annot = True)\n",
    "plt.show()"
   ]
  },
  {
   "cell_type": "code",
   "execution_count": null,
   "metadata": {
    "execution": {
     "iopub.execute_input": "2024-02-01T15:49:40.369526Z",
     "iopub.status.busy": "2024-02-01T15:49:40.369173Z",
     "iopub.status.idle": "2024-02-01T15:49:40.542140Z",
     "shell.execute_reply": "2024-02-01T15:49:40.540860Z",
     "shell.execute_reply.started": "2024-02-01T15:49:40.369497Z"
    }
   },
   "outputs": [],
   "source": [
    "pcr_df = pd.DataFrame({'PC1':pc_d[0],'PC2':pc_d[1],'PC3':pc_d[2],'PC4':pc_d[3],'PC5':pc_d[4],'PC6':pc_d[5]})\n",
    "pcr_df.shape \n",
    "pcr_df"
   ]
  },
  {
   "cell_type": "code",
   "execution_count": null,
   "metadata": {
    "execution": {
     "iopub.execute_input": "2024-02-01T15:49:40.544122Z",
     "iopub.status.busy": "2024-02-01T15:49:40.543661Z",
     "iopub.status.idle": "2024-02-01T15:49:41.005245Z",
     "shell.execute_reply": "2024-02-01T15:49:41.004016Z",
     "shell.execute_reply.started": "2024-02-01T15:49:40.544083Z"
    }
   },
   "outputs": [],
   "source": [
    "#clusterization:\n",
    "ssd = []\n",
    "for num_clusters in list(range(1,10)):\n",
    "    model_clus = KMedoids(n_clusters = num_clusters, max_iter=50)\n",
    "    model_clus.fit(pcr_df)\n",
    "    ssd.append(model_clus.inertia_)\n",
    "\n",
    "plt.plot(ssd)\n",
    "plt.show()"
   ]
  },
  {
   "cell_type": "code",
   "execution_count": null,
   "metadata": {
    "execution": {
     "iopub.execute_input": "2024-02-01T15:49:41.007205Z",
     "iopub.status.busy": "2024-02-01T15:49:41.006741Z",
     "iopub.status.idle": "2024-02-01T15:49:41.039882Z",
     "shell.execute_reply": "2024-02-01T15:49:41.038299Z",
     "shell.execute_reply.started": "2024-02-01T15:49:41.007163Z"
    }
   },
   "outputs": [],
   "source": [
    "k_m = KMedoids(n_clusters=8, random_state=0)\n",
    "k_m.fit(pcr_df)"
   ]
  },
  {
   "cell_type": "code",
   "execution_count": null,
   "metadata": {
    "execution": {
     "iopub.execute_input": "2024-02-01T15:49:41.043891Z",
     "iopub.status.busy": "2024-02-01T15:49:41.042671Z",
     "iopub.status.idle": "2024-02-01T15:49:41.068595Z",
     "shell.execute_reply": "2024-02-01T15:49:41.067076Z",
     "shell.execute_reply.started": "2024-02-01T15:49:41.043834Z"
    }
   },
   "outputs": [],
   "source": [
    "k_m.labels_"
   ]
  },
  {
   "cell_type": "code",
   "execution_count": null,
   "metadata": {
    "execution": {
     "iopub.execute_input": "2024-02-01T15:49:41.072555Z",
     "iopub.status.busy": "2024-02-01T15:49:41.071294Z",
     "iopub.status.idle": "2024-02-01T15:49:41.144361Z",
     "shell.execute_reply": "2024-02-01T15:49:41.143505Z",
     "shell.execute_reply.started": "2024-02-01T15:49:41.072496Z"
    }
   },
   "outputs": [],
   "source": [
    "k_ml = pd.DataFrame(k_m.labels_)\n",
    "k_ml.columns = ['Cluster_md']\n",
    "k_ml"
   ]
  },
  {
   "cell_type": "code",
   "execution_count": null,
   "metadata": {
    "execution": {
     "iopub.execute_input": "2024-02-01T15:49:41.146048Z",
     "iopub.status.busy": "2024-02-01T15:49:41.145695Z",
     "iopub.status.idle": "2024-02-01T15:49:41.764050Z",
     "shell.execute_reply": "2024-02-01T15:49:41.762635Z",
     "shell.execute_reply.started": "2024-02-01T15:49:41.146020Z"
    }
   },
   "outputs": [],
   "source": [
    "df_joineds.reset_index(drop=True, inplace=True)\n",
    "k_m = pd.concat([k_ml,df_joineds],axis = 1)\n",
    "k_m"
   ]
  },
  {
   "cell_type": "code",
   "execution_count": null,
   "metadata": {
    "execution": {
     "iopub.execute_input": "2024-02-01T15:49:41.771086Z",
     "iopub.status.busy": "2024-02-01T15:49:41.770641Z",
     "iopub.status.idle": "2024-02-01T15:49:42.040022Z",
     "shell.execute_reply": "2024-02-01T15:49:42.038427Z",
     "shell.execute_reply.started": "2024-02-01T15:49:41.771051Z"
    }
   },
   "outputs": [],
   "source": [
    "sns.scatterplot(x= k_m['Cluster_md'],y='rating',data=k_m)"
   ]
  },
  {
   "cell_type": "code",
   "execution_count": null,
   "metadata": {
    "execution": {
     "iopub.execute_input": "2024-02-01T15:49:42.043410Z",
     "iopub.status.busy": "2024-02-01T15:49:42.041917Z",
     "iopub.status.idle": "2024-02-01T15:49:42.083527Z",
     "shell.execute_reply": "2024-02-01T15:49:42.082580Z",
     "shell.execute_reply.started": "2024-02-01T15:49:42.043280Z"
    }
   },
   "outputs": [],
   "source": [
    "c0 =k_m.query('Cluster_md == 0')\n",
    "c1 =k_m.query('Cluster_md == 1')\n",
    "c2 =k_m.query('Cluster_md == 2')\n",
    "c3 =k_m.query('Cluster_md == 3')\n",
    "c4 =k_m.query('Cluster_md == 4')\n",
    "c5 =k_m.query('Cluster_md == 5')\n",
    "c6 =k_m.query('Cluster_md == 6')\n",
    "c7 =k_m.query('Cluster_md == 7')"
   ]
  },
  {
   "cell_type": "code",
   "execution_count": null,
   "metadata": {
    "execution": {
     "iopub.execute_input": "2024-02-01T15:49:42.086536Z",
     "iopub.status.busy": "2024-02-01T15:49:42.084801Z",
     "iopub.status.idle": "2024-02-01T15:49:42.098875Z",
     "shell.execute_reply": "2024-02-01T15:49:42.097290Z",
     "shell.execute_reply.started": "2024-02-01T15:49:42.086475Z"
    }
   },
   "outputs": [],
   "source": [
    "dd= pd.concat([c0,c1],ignore_index=True)\n",
    "dd.columns.to_numpy() "
   ]
  },
  {
   "cell_type": "code",
   "execution_count": null,
   "metadata": {},
   "outputs": [],
   "source": [
    "\n",
    "score = 0\n",
    "list_ = p.columns.to_numpy()\n",
    "\n",
    "for i in list_:\n",
    "    _, p = ttest_ind(dd[i], k_m[i])\n",
    "    print(f'p={p:.3f}')\n",
    "\n",
    "    # interpret\n",
    "    alpha = 0.05  # significance level\n",
    "    if p > alpha:\n",
    "        score += 1\n",
    "    else:\n",
    "        print(f'different distributions/different group mean (reject H0) - {i}')\n",
    "\n",
    "print(score)"
   ]
  },
  {
   "cell_type": "code",
   "execution_count": null,
   "metadata": {
    "execution": {
     "iopub.execute_input": "2024-02-01T15:49:42.412964Z",
     "iopub.status.busy": "2024-02-01T15:49:42.412566Z",
     "iopub.status.idle": "2024-02-01T15:49:42.421553Z",
     "shell.execute_reply": "2024-02-01T15:49:42.420129Z",
     "shell.execute_reply.started": "2024-02-01T15:49:42.412933Z"
    }
   },
   "outputs": [],
   "source": [
    "#Logit:\n",
    "x_ = dd[['expenditure_on _education_pct_gdp',\n",
    "       'gini_index', 'gdp_per_capita_ppp',\n",
    "       'inflation_consumer_prices', \n",
    "       'unemployment', 'gross_fixed_capital_formation',\n",
    "       'suicide_mortality_rate', 'tax_revenue',\n",
    "       'taxes_on_income_profits_capital',\n",
    "       'alcohol_consumption_per_capita',\n",
    "      'urban_population_pct_total' ]]\n",
    "\n",
    "y_ = dd[['Cluster_md']]"
   ]
  },
  {
   "cell_type": "code",
   "execution_count": null,
   "metadata": {
    "execution": {
     "iopub.execute_input": "2024-02-01T15:49:42.423436Z",
     "iopub.status.busy": "2024-02-01T15:49:42.423038Z",
     "iopub.status.idle": "2024-02-01T15:49:42.444216Z",
     "shell.execute_reply": "2024-02-01T15:49:42.442904Z",
     "shell.execute_reply.started": "2024-02-01T15:49:42.423408Z"
    }
   },
   "outputs": [],
   "source": [
    "l =   'urban_population_pct_total'\n",
    "Q1 = dd[l].quantile(0.25)\n",
    "Q3 = dd[l].quantile(0.75)\n",
    "IQR = Q3 - Q1\n",
    "((dd[l] < (Q1 - 1.5 * IQR)) | (dd[l] > (Q3 + 1.5 * IQR))).sum()"
   ]
  },
  {
   "cell_type": "code",
   "execution_count": null,
   "metadata": {
    "execution": {
     "iopub.execute_input": "2024-02-01T15:49:42.446112Z",
     "iopub.status.busy": "2024-02-01T15:49:42.445581Z",
     "iopub.status.idle": "2024-02-01T15:49:42.477926Z",
     "shell.execute_reply": "2024-02-01T15:49:42.476787Z",
     "shell.execute_reply.started": "2024-02-01T15:49:42.445929Z"
    }
   },
   "outputs": [],
   "source": [
    "from sklearn.linear_model import LogisticRegression\n",
    "import statsmodels.discrete.discrete_model as sm\n",
    "model= sm.Logit(y_,x_)\n",
    "co =model.fit().params\n",
    "coe = pd.DataFrame(co)\n",
    "coe.columns = ['coeff']\n",
    "exp_coeff =   np.exp(coe)/(np.exp(coe) + 1) \n",
    "exp_coeff = pd.DataFrame(exp_coeff)\n",
    "exp_coeff.columns = ['exp_coeff']\n",
    "exp_coeff"
   ]
  },
  {
   "cell_type": "code",
   "execution_count": null,
   "metadata": {
    "execution": {
     "iopub.execute_input": "2024-02-01T15:49:42.480826Z",
     "iopub.status.busy": "2024-02-01T15:49:42.479792Z",
     "iopub.status.idle": "2024-02-01T15:49:42.542036Z",
     "shell.execute_reply": "2024-02-01T15:49:42.540801Z",
     "shell.execute_reply.started": "2024-02-01T15:49:42.480786Z"
    }
   },
   "outputs": [],
   "source": [
    "results = model.fit()\n",
    "results_summary = results.summary()\n",
    "results_summary"
   ]
  },
  {
   "cell_type": "code",
   "execution_count": null,
   "metadata": {
    "execution": {
     "iopub.execute_input": "2024-02-01T15:57:02.432662Z",
     "iopub.status.busy": "2024-02-01T15:57:02.432169Z",
     "iopub.status.idle": "2024-02-01T15:57:02.534046Z",
     "shell.execute_reply": "2024-02-01T15:57:02.532905Z",
     "shell.execute_reply.started": "2024-02-01T15:57:02.432627Z"
    }
   },
   "outputs": [],
   "source": [
    "results_as_html = results_summary.tables[1].as_html()\n",
    "df_results = pd.read_html(results_as_html, header=0, index_col=0)[0]\n",
    "df_results['exp_coeff'] = exp_coeff\n",
    "df_results"
   ]
  }
 ],
 "metadata": {
  "kaggle": {
   "accelerator": "none",
   "dataSources": [
    {
     "datasetId": 4287388,
     "sourceId": 7415861,
     "sourceType": "datasetVersion"
    }
   ],
   "dockerImageVersionId": 30646,
   "isGpuEnabled": false,
   "isInternetEnabled": true,
   "language": "python",
   "sourceType": "notebook"
  },
  "kernelspec": {
   "display_name": "Python 3 (ipykernel)",
   "language": "python",
   "name": "python3"
  },
  "language_info": {
   "codemirror_mode": {
    "name": "ipython",
    "version": 3
   },
   "file_extension": ".py",
   "mimetype": "text/x-python",
   "name": "python",
   "nbconvert_exporter": "python",
   "pygments_lexer": "ipython3",
   "version": "3.9.7"
  }
 },
 "nbformat": 4,
 "nbformat_minor": 4
}
